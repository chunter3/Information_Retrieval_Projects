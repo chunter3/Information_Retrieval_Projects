{
  "nbformat": 4,
  "nbformat_minor": 0,
  "metadata": {
    "colab": {
      "name": "TF, IDF, & Cosine Similarity",
      "provenance": [],
      "collapsed_sections": [],
      "authorship_tag": "ABX9TyMmkAlynBFx1dd7yrEkAG9P",
      "include_colab_link": true
    },
    "kernelspec": {
      "name": "python3",
      "display_name": "Python 3"
    },
    "language_info": {
      "name": "python"
    }
  },
  "cells": [
    {
      "cell_type": "markdown",
      "metadata": {
        "id": "view-in-github",
        "colab_type": "text"
      },
      "source": [
        "<a href=\"https://colab.research.google.com/github/chunter3/Information_Retrieval_Projects/blob/master/TF%2C_IDF%2C_%26_Cosine_Similarity.ipynb\" target=\"_parent\"><img src=\"https://colab.research.google.com/assets/colab-badge.svg\" alt=\"Open In Colab\"/></a>"
      ]
    },
    {
      "cell_type": "code",
      "execution_count": 1,
      "metadata": {
        "id": "xPCzYPuMWYno"
      },
      "outputs": [],
      "source": [
        "import nltk\n",
        "import re\n",
        "import math\n",
        "%matplotlib inline"
      ]
    },
    {
      "cell_type": "code",
      "source": [
        "# Problem 1 (start)"
      ],
      "metadata": {
        "id": "UA7ydSiUWfKX"
      },
      "execution_count": 2,
      "outputs": []
    },
    {
      "cell_type": "code",
      "source": [
        "# Loading the state_union sample dataset from the nltk library\n",
        "\n",
        "nltk.download('punkt')\n",
        "nltk.download('state_union')\n",
        "from nltk.corpus import state_union\n",
        "state_union.fileids()  # 65 documents w/in the state_union corpus (N = 65)"
      ],
      "metadata": {
        "id": "L0k27r1PWg42"
      },
      "execution_count": null,
      "outputs": []
    },
    {
      "cell_type": "code",
      "source": [
        "# Term frequency (TF) auxiliary function; determines the TF of a word in a document\n",
        "\n",
        "# tf(t,d) = count of t in d / number of words in d\n",
        "\n",
        "def TermFrequency(term, doc):\n",
        "  termCount = 0       # Final count of the number of times the given term appear in document\n",
        "  wordCount = 0       # Total number of words in document\n",
        "  for sentence in doc:\n",
        "    joinTerms = ' '.join(sentence)        \n",
        "    processSent = (re.sub('[^A-Za-z0-9]+',' ', joinTerms)).split()\n",
        "    termCount += processSent.count(term)\n",
        "    wordCount += len(processSent)\n",
        "  return (termCount/wordCount)"
      ],
      "metadata": {
        "id": "m5RZ1ChrlSHM"
      },
      "execution_count": 4,
      "outputs": []
    },
    {
      "cell_type": "code",
      "source": [
        "# Inverse document frequency (IDF) auxiliary function; uses the inverted index to determine the IDF for a term and corpus\n",
        "\n",
        "# idf(t) = log(N/(df + 1)); N = total number of documents in corpus; df(t) = number of documents in corpus that contain the term t\n",
        "\n",
        "def InverseDF(term, index):\n",
        "  df = len(index[term])\n",
        "  return math.log10(65/(df + 1))    # Decided to use log base 10; shouldn't make much of a difference"
      ],
      "metadata": {
        "id": "BSSFrEjIlX3F"
      },
      "execution_count": 5,
      "outputs": []
    },
    {
      "cell_type": "code",
      "source": [
        "# TF-IDF inverted index function\n",
        "\n",
        "def TF_IDFIndex(corpus):\n",
        "  invertedIndex = {}\n",
        "  docID = 0\n",
        "  for textFile in corpus:\n",
        "    doc = state_union.sents(textFile)\n",
        "    docID+=1\n",
        "    for sentence in doc:   \n",
        "      joinTerms = ' '.join(sentence)        \n",
        "      processSent = (re.sub('[^A-Za-z0-9]+',' ', joinTerms)).split()\n",
        "      for word in processSent:\n",
        "         if word in invertedIndex and docID not in invertedIndex[word]:\n",
        "           invertedIndex[word].append(docID)\n",
        "         else:\n",
        "           invertedIndex[word] = [docID]\n",
        "  for key in invertedIndex.keys():\n",
        "    docIDLst = invertedIndex[key]\n",
        "    idf = InverseDF(key,invertedIndex)\n",
        "    invertedIndex[key] = []\n",
        "    for docID in docIDLst:\n",
        "      text = state_union.sents(corpus[docID - 1])\n",
        "      tf = TermFrequency(key,text)\n",
        "      invertedIndex[key].append((docID,(tf*idf)))\n",
        "  return invertedIndex"
      ],
      "metadata": {
        "id": "tBhUM97SY6Nn"
      },
      "execution_count": 6,
      "outputs": []
    },
    {
      "cell_type": "code",
      "source": [
        "tf_idf_index = TF_IDFIndex(state_union.fileids())\n",
        "tf_idf_index"
      ],
      "metadata": {
        "id": "784AgmIjuAoD"
      },
      "execution_count": null,
      "outputs": []
    },
    {
      "cell_type": "code",
      "source": [
        "# Problem 1 (End)"
      ],
      "metadata": {
        "id": "FYwWAtW0hu9Y"
      },
      "execution_count": 8,
      "outputs": []
    },
    {
      "cell_type": "code",
      "source": [
        "# Problem 2 (Start)"
      ],
      "metadata": {
        "id": "SseDLqYzhxBw"
      },
      "execution_count": 9,
      "outputs": []
    },
    {
      "cell_type": "code",
      "source": [
        "# Query vector function\n",
        "\n",
        "def QueryVector(query, tf_idf_index):\n",
        "  qvDict = {}           # Query vector dictionary; will be the final return value\n",
        "  tokenizedQuery = list(query.split(\" \"))\n",
        "  for token in tokenizedQuery:\n",
        "    if token not in tf_idf_index:\n",
        "      qvDict[token] = 0\n",
        "      continue\n",
        "    qvDict[token] = InverseDF(token, tf_idf_index)\n",
        "  return qvDict"
      ],
      "metadata": {
        "id": "nFcoxIqBjCf2"
      },
      "execution_count": 10,
      "outputs": []
    },
    {
      "cell_type": "code",
      "source": [
        "# Testing the query vector function\n",
        "\n",
        "query = \"the world ends with you\"\n",
        "QueryVector(query, tf_idf_index)"
      ],
      "metadata": {
        "colab": {
          "base_uri": "https://localhost:8080/"
        },
        "id": "gofVd7DBeyMZ",
        "outputId": "0c3db2ac-b11a-452b-e710-4a2fac94c115"
      },
      "execution_count": 19,
      "outputs": [
        {
          "output_type": "execute_result",
          "data": {
            "text/plain": [
              "{'ends': 0.8586708472035307,\n",
              " 'the': 1.5118833609788744,\n",
              " 'with': 1.5118833609788744,\n",
              " 'world': 1.5118833609788744,\n",
              " 'you': 1.5118833609788744}"
            ]
          },
          "metadata": {},
          "execution_count": 19
        }
      ]
    },
    {
      "cell_type": "code",
      "source": [
        "# Problem 2 (End)"
      ],
      "metadata": {
        "id": "1JdEudzRgxUB"
      },
      "execution_count": 12,
      "outputs": []
    },
    {
      "cell_type": "code",
      "source": [
        "# Problem 3 (Start)"
      ],
      "metadata": {
        "id": "UZZVguFRhfiJ"
      },
      "execution_count": 13,
      "outputs": []
    },
    {
      "cell_type": "code",
      "source": [
        "# Document length auxiliary function; returns the euclidean length of a document\n",
        "\n",
        "def DocLength(queryVector, docID, tf_idf_index):\n",
        "  sum = 0\n",
        "  for term in queryVector:\n",
        "    if docID not in tf_idf_index[term]:\n",
        "      continue\n",
        "    for pair in tf_idf_index[term]:\n",
        "      if pair[0] == docID:\n",
        "        sum += pair[1] ** 2\n",
        "        break\n",
        "  return math.sqrt(sum)"
      ],
      "metadata": {
        "id": "jJKEYvHQmpn0"
      },
      "execution_count": 14,
      "outputs": []
    },
    {
      "cell_type": "code",
      "source": [
        "# Cosine similarity search function\n",
        "\n",
        "def CSSearch(query, tf_idf_index):\n",
        "  scores = [(0,0)] * 65    # Remember that there are 65 documents in state_union corpus\n",
        "  queryVector = QueryVector(query, tf_idf_index)\n",
        "  for term, idf in queryVector.items():\n",
        "    for (docID, tf_idf) in tf_idf_index[term]:\n",
        "      if (docID - 1) in scores:\n",
        "        scores[docID - 1][1] += idf*tf_idf\n",
        "        continue\n",
        "      scores[docID - 1] = (docID, (idf*tf_idf))\n",
        "  scores = sorted(list(set([score for score in scores])))\n",
        "  for score in scores:\n",
        "    docLength = DocLength(queryVector, score[0], tf_idf_index)\n",
        "    if docLength == 0:\n",
        "      continue\n",
        "    score[1] = score[1]/docLength \n",
        "  return scores"
      ],
      "metadata": {
        "id": "hvXGOeeohzcm"
      },
      "execution_count": 15,
      "outputs": []
    },
    {
      "cell_type": "code",
      "source": [
        "# Testing the cosine similiarity search function\n",
        "\n",
        "query = \"the world ends with you\"\n",
        "CSSearch(query, tf_idf_index)  # ignore starting (0,0); list is sorted by ascending order of document ID"
      ],
      "metadata": {
        "colab": {
          "base_uri": "https://localhost:8080/"
        },
        "id": "rgi7flQAVH_N",
        "outputId": "f4482555-6b0f-467b-b9f5-66e068e237e7"
      },
      "execution_count": 18,
      "outputs": [
        {
          "output_type": "execute_result",
          "data": {
            "text/plain": [
              "[(0, 0),\n",
              " (19, 0.00026709495520276373),\n",
              " (23, 0.00013147568185399952),\n",
              " (26, 0.00017702656034507304),\n",
              " (49, 0.00025155770175272236),\n",
              " (52, 9.738682127027198e-05),\n",
              " (56, 9.84400031825406e-05),\n",
              " (60, 0.0002411104067486034),\n",
              " (65, 0.0057002276738273745)]"
            ]
          },
          "metadata": {},
          "execution_count": 18
        }
      ]
    },
    {
      "cell_type": "code",
      "source": [
        "# Problem 3 (End)"
      ],
      "metadata": {
        "id": "q_wnIakmUOlx"
      },
      "execution_count": 17,
      "outputs": []
    }
  ]
}